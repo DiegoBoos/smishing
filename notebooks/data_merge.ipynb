{
 "cells": [
  {
   "cell_type": "code",
   "execution_count": 3,
   "metadata": {},
   "outputs": [],
   "source": [
    "import pandas as pd\n",
    "\n",
    "# Load the original dataset\n",
    "merged_dataset_path = '../data/merged_dataset.csv'\n",
    "merged_dataset = pd.read_csv(merged_dataset_path)\n",
    "\n",
    "# Load the mock data files\n",
    "mock_data_paths = [\n",
    "   '../data/MOCK_DATA.csv',\n",
    "    '../data/MOCK_DATA-2.csv',\n",
    "    '../data/MOCK_DATA-3.csv',\n",
    "    '../data/MOCK_DATA-4.csv',\n",
    "    '../data/MOCK_DATA-5.csv'\n",
    "]\n",
    "\n",
    "# Concatenate all mock data DataFrames\n",
    "mock_data_dfs = [pd.read_csv(path) for path in mock_data_paths]\n",
    "mock_data_combined = pd.concat(mock_data_dfs, ignore_index=True)\n",
    "\n",
    "# Select only the columns you want to use to fill the dataset\n",
    "columns_to_fill = ['phone', 'email', 'name', 'age']\n",
    "mock_data_selected = mock_data_combined[columns_to_fill]\n",
    "\n",
    "# Starting from the 1003rd row, fill in the columns from the mock data\n",
    "start_row = 1003 \n",
    "num_rows_to_fill = merged_dataset.shape[0] - start_row\n",
    "\n",
    "# Make sure we have enough data to fill, if not, take only as much as needed\n",
    "mock_data_to_use = mock_data_selected.iloc[:num_rows_to_fill]\n",
    "\n",
    "# Now fill the original dataset with the mock data\n",
    "merged_dataset.loc[start_row:start_row + num_rows_to_fill - 1, columns_to_fill] = mock_data_to_use.values\n",
    "\n",
    "# Save the complete dataset to a new CSV file\n",
    "final_dataset_path = '../data/training data/final_merged_dataset.csv'\n",
    "merged_dataset.to_csv(final_dataset_path, index=False)\n"
   ]
  }
 ],
 "metadata": {
  "kernelspec": {
   "display_name": ".venv",
   "language": "python",
   "name": "python3"
  },
  "language_info": {
   "codemirror_mode": {
    "name": "ipython",
    "version": 3
   },
   "file_extension": ".py",
   "mimetype": "text/x-python",
   "name": "python",
   "nbconvert_exporter": "python",
   "pygments_lexer": "ipython3",
   "version": "3.11.7"
  }
 },
 "nbformat": 4,
 "nbformat_minor": 2
}
